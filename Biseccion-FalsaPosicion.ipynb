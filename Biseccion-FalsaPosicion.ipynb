{
  "nbformat": 4,
  "nbformat_minor": 0,
  "metadata": {
    "colab": {
      "name": "Untitled1.ipynb",
      "provenance": [],
      "collapsed_sections": []
    },
    "kernelspec": {
      "name": "python3",
      "display_name": "Python 3"
    }
  },
  "cells": [
    {
      "cell_type": "code",
      "metadata": {
        "id": "imM1C9c5KayC"
      },
      "source": [
        "import matplotlib.pyplot as plt\n",
        "def f(x):\n",
        "    return x**3 + (4*x**2)-10"
      ],
      "execution_count": 1,
      "outputs": []
    },
    {
      "cell_type": "code",
      "metadata": {
        "id": "VFqxk3I3KlW8"
      },
      "source": [
        "def Biseccion(xl ,xu,criterio_paro = 0.001):\n",
        "    \n",
        "    f_xl = f(xl)\n",
        "    f_xu = f(xu)\n",
        "    xr_ant = xu\n",
        "    error = xu\n",
        "    raiz = None\n",
        "\n",
        "    if f_xl*f_xu < 0:\n",
        "        while(error > criterio_paro):\n",
        "            \n",
        "            xr =((f_xl*xu)-(f_xu[i]*xl))/(f_xl-f_xu)\n",
        "            xrVec.append(xr)\n",
        "            \n",
        "            f_xr = f(xr)\n",
        "\n",
        "            if f_xl * f_xr < 0:\n",
        "                xu = xr\n",
        "                f_xu = f_xr\n",
        "\n",
        "            if f_xr*f_xu < 0:\n",
        "               \n",
        "                xl = xr\n",
        "                f_xl = f_xr\n",
        "\n",
        "            error = abs((xr-xr_ant)/xr)\n",
        "            raiz = xr\n",
        "            xr_ant = xr\n",
        "\n",
        "    else:\n",
        "        print(\"La raiz no esta en el intervalo\")\n",
        "   \n",
        "    return raiz"
      ],
      "execution_count": 2,
      "outputs": []
    },
    {
      "cell_type": "code",
      "metadata": {
        "id": "vC3SSAkCNTZk",
        "outputId": "f5c6ea5c-0d6c-43dd-9836-11619fd1f535",
        "colab": {
          "base_uri": "https://localhost:8080/",
          "height": 85
        }
      },
      "source": [
        "\n",
        "xl = float(input(\"Introduzca la cota inferior: \"))\n",
        "xu = float(input(\"Introduzca la cota superior: \"))\n",
        "\n",
        "xrVec=[]\n",
        "\n",
        "raiz = Biseccion(xl =xl,xu= xu)\n",
        "print(raiz)"
      ],
      "execution_count": 21,
      "outputs": [
        {
          "output_type": "stream",
          "text": [
            "Introduzca la cota inferior: 6\n",
            "Introduzca la cota superior: 7\n",
            "La raiz no esta en el intervalo\n",
            "None\n"
          ],
          "name": "stdout"
        }
      ]
    },
    {
      "cell_type": "code",
      "metadata": {
        "id": "SAZCw44wu1ah",
        "outputId": "f7594cf7-8bc3-477a-c0cf-deec6831c7c8",
        "colab": {
          "base_uri": "https://localhost:8080/",
          "height": 265
        }
      },
      "source": [
        "plt.plot(xrVec)\n",
        "plt.show()"
      ],
      "execution_count": 22,
      "outputs": [
        {
          "output_type": "display_data",
          "data": {
            "image/png": "[encoded data removed]",
            "text/plain": [
              "<Figure size 432x288 with 1 Axes>"
            ]
          },
          "metadata": {
            "tags": [],
            "needs_background": "light"
          }
        }
      ]
    },
    {
      "cell_type": "code",
      "metadata": {
        "id": "6JNuGTF9vLTS",
        "outputId": "ca65ddd0-e6dc-4ef7-d08e-0358a366e0d6",
        "colab": {
          "base_uri": "https://localhost:8080/",
          "height": 85
        }
      },
      "source": [
        "xl = float(input(\"Introduzca la cota inferior: \"))\n",
        "xu = float(input(\"Introduzca la cota superior: \"))\n",
        "\n",
        "xrVec=[]\n",
        "\n",
        "raiz = Biseccion(xl =xl,xu= xu)\n",
        "print(raiz)"
      ],
      "execution_count": 23,
      "outputs": [
        {
          "output_type": "stream",
          "text": [
            "Introduzca la cota inferior: -2\n",
            "Introduzca la cota superior: -1\n",
            "La raiz no esta en el intervalo\n",
            "None\n"
          ],
          "name": "stdout"
        }
      ]
    },
    {
      "cell_type": "code",
      "metadata": {
        "id": "AMjRUkIcrrPN",
        "outputId": "f081e912-de9e-4b48-9617-6fdc387c0e43",
        "colab": {
          "base_uri": "https://localhost:8080/",
          "height": 68
        }
      },
      "source": [
        "xl = float(input(\"Introduzca la cota inferior: \"))\n",
        "xu = float(input(\"Introduzca la cota superior: \"))\n",
        "\n",
        "xrVec=[]\n",
        "\n",
        "raiz = Biseccion(xl =xl,xu= xu)\n",
        "print(raiz)"
      ],
      "execution_count": 18,
      "outputs": [
        {
          "output_type": "stream",
          "text": [
            "Introduzca la cota inferior: -1\n",
            "Introduzca la cota superior: 2\n",
            "1.364990234375\n"
          ],
          "name": "stdout"
        }
      ]
    },
    {
      "cell_type": "code",
      "metadata": {
        "id": "fLFF8Cwaug3X",
        "outputId": "eadebe9d-44ba-4486-8fbd-772bc3ab3b5c",
        "colab": {
          "base_uri": "https://localhost:8080/",
          "height": 265
        }
      },
      "source": [
        "plt.plot(xrVec)\n",
        "plt.show()"
      ],
      "execution_count": 19,
      "outputs": [
        {
          "output_type": "display_data",
          "data": {
            "image/png": "[encoded data removed]",
            "text/plain": [
              "<Figure size 432x288 with 1 Axes>"
            ]
          },
          "metadata": {
            "tags": [],
            "needs_background": "light"
          }
        }
      ]
    },
    {
      "cell_type": "code",
      "metadata": {
        "id": "j91FipBfNqVu",
        "outputId": "db1e1140-9ccf-4731-8d90-168c449718a7",
        "colab": {
          "base_uri": "https://localhost:8080/",
          "height": 34
        }
      },
      "source": [
        "print(xrVec)"
      ],
      "execution_count": 8,
      "outputs": [
        {
          "output_type": "stream",
          "text": [
            "[0.5, 1.25, 1.625, 1.4375, 1.34375, 1.390625, 1.3671875, 1.35546875, 1.361328125, 1.3642578125, 1.36572265625, 1.364990234375]\n"
          ],
          "name": "stdout"
        }
      ]
    },
    {
      "cell_type": "code",
      "metadata": {
        "id": "fADMakQ5uTTe",
        "outputId": "8f92a89e-cfc5-4ecd-9c37-bb70d0f042cf",
        "colab": {
          "base_uri": "https://localhost:8080/",
          "height": 68
        }
      },
      "source": [
        "xl = float(input(\"Introduzca la cota inferior: \"))\n",
        "xu = float(input(\"Introduzca la cota superior: \"))\n",
        "\n",
        "xrVec=[]\n",
        "\n",
        "raiz = Biseccion(xl =xl,xu= xu)\n",
        "print(raiz)"
      ],
      "execution_count": 12,
      "outputs": [
        {
          "output_type": "stream",
          "text": [
            "Introduzca la cota inferior: 1\n",
            "Introduzca la cota superior: 3\n",
            "1.3642578125\n"
          ],
          "name": "stdout"
        }
      ]
    },
    {
      "cell_type": "code",
      "metadata": {
        "id": "J0Q2FnoFuK9l",
        "outputId": "491cf874-7573-46a3-a6e4-dcfcf02bdca9",
        "colab": {
          "base_uri": "https://localhost:8080/",
          "height": 265
        }
      },
      "source": [
        "plt.plot(xrVec)\n",
        "plt.show()"
      ],
      "execution_count": 13,
      "outputs": [
        {
          "output_type": "display_data",
          "data": {
            "image/png": "[encoded data removed]",
            "text/plain": [
              "<Figure size 432x288 with 1 Axes>"
            ]
          },
          "metadata": {
            "tags": [],
            "needs_background": "light"
          }
        }
      ]
    }
  ]
}